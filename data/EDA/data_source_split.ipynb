{
 "cells": [
  {
   "cell_type": "code",
   "execution_count": 2,
   "metadata": {},
   "outputs": [],
   "source": [
    "import pandas as pd\n",
    "import numpy as np"
   ]
  },
  {
   "cell_type": "code",
   "execution_count": 3,
   "metadata": {},
   "outputs": [],
   "source": [
    "dev = pd.read_csv('../dev.csv')\n",
    "dev = pd.read_csv('../dev.csv')\n",
    "test = pd.read_csv('../test.csv')"
   ]
  },
  {
   "cell_type": "code",
   "execution_count": 7,
   "metadata": {},
   "outputs": [
    {
     "data": {
      "text/plain": [
       "{'nsmc-rtt',\n",
       " 'nsmc-sampled',\n",
       " 'petition-rtt',\n",
       " 'petition-sampled',\n",
       " 'slack-rtt',\n",
       " 'slack-sampled'}"
      ]
     },
     "execution_count": 7,
     "metadata": {},
     "output_type": "execute_result"
    }
   ],
   "source": [
    "set(dev['source'].values)"
   ]
  },
  {
   "cell_type": "code",
   "execution_count": 21,
   "metadata": {},
   "outputs": [
    {
     "name": "stdout",
     "output_type": "stream",
     "text": [
      "788\n"
     ]
    }
   ],
   "source": [
    "print(len(dev[dev['source']=='nsmc-rtt']))"
   ]
  },
  {
   "cell_type": "code",
   "execution_count": 22,
   "metadata": {},
   "outputs": [
    {
     "name": "stdout",
     "output_type": "stream",
     "text": [
      "2296\n"
     ]
    }
   ],
   "source": [
    "print(len(dev[dev['source']=='nsmc-sampled']))"
   ]
  },
  {
   "cell_type": "code",
   "execution_count": 23,
   "metadata": {},
   "outputs": [
    {
     "name": "stdout",
     "output_type": "stream",
     "text": [
      "817\n"
     ]
    }
   ],
   "source": [
    "print(len(dev[dev['source']=='petition-rtt']))"
   ]
  },
  {
   "cell_type": "code",
   "execution_count": 24,
   "metadata": {},
   "outputs": [
    {
     "name": "stdout",
     "output_type": "stream",
     "text": [
      "2352\n"
     ]
    }
   ],
   "source": [
    "print(len(dev[dev['source']=='petition-sampled']))\n"
   ]
  },
  {
   "cell_type": "code",
   "execution_count": 25,
   "metadata": {},
   "outputs": [
    {
     "name": "stdout",
     "output_type": "stream",
     "text": [
      "1047\n"
     ]
    }
   ],
   "source": [
    "print(len(dev[dev['source']=='slack-rtt']))\n"
   ]
  },
  {
   "cell_type": "code",
   "execution_count": 26,
   "metadata": {},
   "outputs": [
    {
     "name": "stdout",
     "output_type": "stream",
     "text": [
      "2024\n"
     ]
    }
   ],
   "source": [
    "print(len(dev[dev['source']=='slack-sampled']))\n"
   ]
  },
  {
   "cell_type": "code",
   "execution_count": 36,
   "metadata": {},
   "outputs": [],
   "source": [
    "nsmc_dev1 = dev[(dev['source']=='nsmc-rtt')]\n",
    "nsmc_dev2 = dev[dev['source']=='nsmc-sampled']\n",
    "petition_dev1 = dev[(dev['source']=='petition-rtt')]\n",
    "petition_dev2 = dev[dev['source']=='petition-sampled']\n",
    "slack_dev1 = dev[(dev['source']=='slack-rtt')]\n",
    "slack_dev2 = dev[dev['source']=='slack-sampled']"
   ]
  },
  {
   "cell_type": "code",
   "execution_count": 37,
   "metadata": {},
   "outputs": [
    {
     "name": "stdout",
     "output_type": "stream",
     "text": [
      "175\n",
      "175\n"
     ]
    }
   ],
   "source": [
    "print(len(nsmc_dev1)+len(nsmc_dev2))\n",
    "nsmc_dev = pd.concat([nsmc_dev1,nsmc_dev2])\n",
    "print(len(nsmc_dev))"
   ]
  },
  {
   "cell_type": "code",
   "execution_count": 38,
   "metadata": {},
   "outputs": [
    {
     "name": "stdout",
     "output_type": "stream",
     "text": [
      "192\n",
      "192\n"
     ]
    }
   ],
   "source": [
    "print(len(petition_dev1)+len(petition_dev2))\n",
    "petition_dev = pd.concat([petition_dev1,petition_dev2])\n",
    "print(len(petition_dev))"
   ]
  },
  {
   "cell_type": "code",
   "execution_count": 39,
   "metadata": {},
   "outputs": [
    {
     "name": "stdout",
     "output_type": "stream",
     "text": [
      "183\n",
      "183\n"
     ]
    }
   ],
   "source": [
    "print(len(slack_dev1)+len(slack_dev2))\n",
    "slack_dev = pd.concat([slack_dev1,slack_dev2])\n",
    "print(len(slack_dev))"
   ]
  },
  {
   "cell_type": "code",
   "execution_count": 40,
   "metadata": {},
   "outputs": [],
   "source": [
    "nsmc_dev.to_csv('../nsmc_dev.csv')\n",
    "petition_dev.to_csv('../petition_dev.csv')\n",
    "slack_dev.to_csv('../slcak_dev.csv')"
   ]
  },
  {
   "cell_type": "code",
   "execution_count": null,
   "metadata": {},
   "outputs": [],
   "source": []
  }
 ],
 "metadata": {
  "kernelspec": {
   "display_name": "Python 3.8.13 ('venv')",
   "language": "python",
   "name": "python3"
  },
  "language_info": {
   "codemirror_mode": {
    "name": "ipython",
    "version": 3
   },
   "file_extension": ".py",
   "mimetype": "text/x-python",
   "name": "python",
   "nbconvert_exporter": "python",
   "pygments_lexer": "ipython3",
   "version": "3.8.13"
  },
  "orig_nbformat": 4,
  "vscode": {
   "interpreter": {
    "hash": "ec5511c57591959bfe383097d4c77eeb724c9a6ac951d9eef9284c9544b2033b"
   }
  }
 },
 "nbformat": 4,
 "nbformat_minor": 2
}
