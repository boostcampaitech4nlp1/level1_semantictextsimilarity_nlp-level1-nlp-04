{
 "cells": [
  {
   "cell_type": "code",
   "execution_count": 1,
   "metadata": {},
   "outputs": [],
   "source": [
    "import pandas as pd\n",
    "import numpy as np\n",
    "import matplotlib as plt"
   ]
  },
  {
   "cell_type": "code",
   "execution_count": 2,
   "metadata": {},
   "outputs": [],
   "source": [
    "train = pd.read_csv('~/data/train.csv')\n",
    "test = pd.read_csv('~/data/test.csv')\n",
    "val = pd.read_csv('~/data/dev.csv')"
   ]
  },
  {
   "cell_type": "code",
   "execution_count": 4,
   "metadata": {},
   "outputs": [
    {
     "data": {
      "text/html": [
       "<div>\n",
       "<style scoped>\n",
       "    .dataframe tbody tr th:only-of-type {\n",
       "        vertical-align: middle;\n",
       "    }\n",
       "\n",
       "    .dataframe tbody tr th {\n",
       "        vertical-align: top;\n",
       "    }\n",
       "\n",
       "    .dataframe thead th {\n",
       "        text-align: right;\n",
       "    }\n",
       "</style>\n",
       "<table border=\"1\" class=\"dataframe\">\n",
       "  <thead>\n",
       "    <tr style=\"text-align: right;\">\n",
       "      <th></th>\n",
       "      <th>id</th>\n",
       "      <th>source</th>\n",
       "      <th>sentence_1</th>\n",
       "      <th>sentence_2</th>\n",
       "      <th>label</th>\n",
       "      <th>binary-label</th>\n",
       "    </tr>\n",
       "  </thead>\n",
       "  <tbody>\n",
       "    <tr>\n",
       "      <th>0</th>\n",
       "      <td>boostcamp-sts-v1-dev-000</td>\n",
       "      <td>nsmc-sampled</td>\n",
       "      <td>액션은개뿔 총몇번쏘고 끝입니다</td>\n",
       "      <td>액션은 흉내만 내고 그마저도 후반부에는 슬로우모션 처리</td>\n",
       "      <td>2.0</td>\n",
       "      <td>0.0</td>\n",
       "    </tr>\n",
       "    <tr>\n",
       "      <th>1</th>\n",
       "      <td>boostcamp-sts-v1-dev-001</td>\n",
       "      <td>slack-rtt</td>\n",
       "      <td>감격스러워 입막으심?</td>\n",
       "      <td>너무 감동해서 입 다물어?</td>\n",
       "      <td>3.4</td>\n",
       "      <td>1.0</td>\n",
       "    </tr>\n",
       "    <tr>\n",
       "      <th>2</th>\n",
       "      <td>boostcamp-sts-v1-dev-002</td>\n",
       "      <td>nsmc-rtt</td>\n",
       "      <td>이번 년도에 본 영화 중 가장 최악의 영화......</td>\n",
       "      <td>올해 본 영화 중 최악...</td>\n",
       "      <td>4.0</td>\n",
       "      <td>1.0</td>\n",
       "    </tr>\n",
       "    <tr>\n",
       "      <th>3</th>\n",
       "      <td>boostcamp-sts-v1-dev-003</td>\n",
       "      <td>slack-rtt</td>\n",
       "      <td>특히 평소 뮤직채널에 많은 영감을 불어넣어주시는!</td>\n",
       "      <td>특히, 당신은 항상 많은 음악 채널에 영감을 줍니다!</td>\n",
       "      <td>3.4</td>\n",
       "      <td>1.0</td>\n",
       "    </tr>\n",
       "    <tr>\n",
       "      <th>4</th>\n",
       "      <td>boostcamp-sts-v1-dev-004</td>\n",
       "      <td>slack-sampled</td>\n",
       "      <td>다음 밥스테이지가 기대됩니다~ ㅎ</td>\n",
       "      <td>다음 후기도 기대됩니다~~</td>\n",
       "      <td>1.4</td>\n",
       "      <td>0.0</td>\n",
       "    </tr>\n",
       "  </tbody>\n",
       "</table>\n",
       "</div>"
      ],
      "text/plain": [
       "                         id         source                     sentence_1  \\\n",
       "0  boostcamp-sts-v1-dev-000   nsmc-sampled               액션은개뿔 총몇번쏘고 끝입니다   \n",
       "1  boostcamp-sts-v1-dev-001      slack-rtt                    감격스러워 입막으심?   \n",
       "2  boostcamp-sts-v1-dev-002       nsmc-rtt  이번 년도에 본 영화 중 가장 최악의 영화......   \n",
       "3  boostcamp-sts-v1-dev-003      slack-rtt    특히 평소 뮤직채널에 많은 영감을 불어넣어주시는!   \n",
       "4  boostcamp-sts-v1-dev-004  slack-sampled             다음 밥스테이지가 기대됩니다~ ㅎ   \n",
       "\n",
       "                       sentence_2  label  binary-label  \n",
       "0  액션은 흉내만 내고 그마저도 후반부에는 슬로우모션 처리    2.0           0.0  \n",
       "1                  너무 감동해서 입 다물어?    3.4           1.0  \n",
       "2                 올해 본 영화 중 최악...    4.0           1.0  \n",
       "3   특히, 당신은 항상 많은 음악 채널에 영감을 줍니다!    3.4           1.0  \n",
       "4                  다음 후기도 기대됩니다~~    1.4           0.0  "
      ]
     },
     "execution_count": 4,
     "metadata": {},
     "output_type": "execute_result"
    }
   ],
   "source": [
    "val.head()"
   ]
  },
  {
   "cell_type": "code",
   "execution_count": 25,
   "metadata": {},
   "outputs": [],
   "source": [
    "train['sent_1_len'] = train['sentence_1'].apply(lambda x : len(x))\n",
    "train['sent_2_len'] = train['sentence_2'].apply(lambda x : len(x))"
   ]
  },
  {
   "cell_type": "code",
   "execution_count": 26,
   "metadata": {},
   "outputs": [
    {
     "data": {
      "text/html": [
       "<div>\n",
       "<style scoped>\n",
       "    .dataframe tbody tr th:only-of-type {\n",
       "        vertical-align: middle;\n",
       "    }\n",
       "\n",
       "    .dataframe tbody tr th {\n",
       "        vertical-align: top;\n",
       "    }\n",
       "\n",
       "    .dataframe thead th {\n",
       "        text-align: right;\n",
       "    }\n",
       "</style>\n",
       "<table border=\"1\" class=\"dataframe\">\n",
       "  <thead>\n",
       "    <tr style=\"text-align: right;\">\n",
       "      <th></th>\n",
       "      <th>label</th>\n",
       "      <th>binary-label</th>\n",
       "      <th>sent_1_len</th>\n",
       "      <th>sent_2_len</th>\n",
       "    </tr>\n",
       "  </thead>\n",
       "  <tbody>\n",
       "    <tr>\n",
       "      <th>count</th>\n",
       "      <td>9324.000000</td>\n",
       "      <td>9324.000000</td>\n",
       "      <td>9324.000000</td>\n",
       "      <td>9324.000000</td>\n",
       "    </tr>\n",
       "    <tr>\n",
       "      <th>mean</th>\n",
       "      <td>1.849968</td>\n",
       "      <td>0.389532</td>\n",
       "      <td>23.258151</td>\n",
       "      <td>23.726405</td>\n",
       "    </tr>\n",
       "    <tr>\n",
       "      <th>std</th>\n",
       "      <td>1.602212</td>\n",
       "      <td>0.487670</td>\n",
       "      <td>14.395189</td>\n",
       "      <td>13.385380</td>\n",
       "    </tr>\n",
       "    <tr>\n",
       "      <th>min</th>\n",
       "      <td>0.000000</td>\n",
       "      <td>0.000000</td>\n",
       "      <td>9.000000</td>\n",
       "      <td>5.000000</td>\n",
       "    </tr>\n",
       "    <tr>\n",
       "      <th>25%</th>\n",
       "      <td>0.200000</td>\n",
       "      <td>0.000000</td>\n",
       "      <td>14.000000</td>\n",
       "      <td>15.000000</td>\n",
       "    </tr>\n",
       "    <tr>\n",
       "      <th>50%</th>\n",
       "      <td>1.600000</td>\n",
       "      <td>0.000000</td>\n",
       "      <td>19.000000</td>\n",
       "      <td>20.000000</td>\n",
       "    </tr>\n",
       "    <tr>\n",
       "      <th>75%</th>\n",
       "      <td>3.400000</td>\n",
       "      <td>1.000000</td>\n",
       "      <td>28.000000</td>\n",
       "      <td>28.000000</td>\n",
       "    </tr>\n",
       "    <tr>\n",
       "      <th>max</th>\n",
       "      <td>5.000000</td>\n",
       "      <td>1.000000</td>\n",
       "      <td>98.000000</td>\n",
       "      <td>114.000000</td>\n",
       "    </tr>\n",
       "  </tbody>\n",
       "</table>\n",
       "</div>"
      ],
      "text/plain": [
       "             label  binary-label   sent_1_len   sent_2_len\n",
       "count  9324.000000   9324.000000  9324.000000  9324.000000\n",
       "mean      1.849968      0.389532    23.258151    23.726405\n",
       "std       1.602212      0.487670    14.395189    13.385380\n",
       "min       0.000000      0.000000     9.000000     5.000000\n",
       "25%       0.200000      0.000000    14.000000    15.000000\n",
       "50%       1.600000      0.000000    19.000000    20.000000\n",
       "75%       3.400000      1.000000    28.000000    28.000000\n",
       "max       5.000000      1.000000    98.000000   114.000000"
      ]
     },
     "execution_count": 26,
     "metadata": {},
     "output_type": "execute_result"
    }
   ],
   "source": [
    "train.describe()"
   ]
  },
  {
   "cell_type": "code",
   "execution_count": 33,
   "metadata": {},
   "outputs": [
    {
     "data": {
      "text/html": [
       "<div>\n",
       "<style scoped>\n",
       "    .dataframe tbody tr th:only-of-type {\n",
       "        vertical-align: middle;\n",
       "    }\n",
       "\n",
       "    .dataframe tbody tr th {\n",
       "        vertical-align: top;\n",
       "    }\n",
       "\n",
       "    .dataframe thead th {\n",
       "        text-align: right;\n",
       "    }\n",
       "</style>\n",
       "<table border=\"1\" class=\"dataframe\">\n",
       "  <thead>\n",
       "    <tr style=\"text-align: right;\">\n",
       "      <th></th>\n",
       "      <th>id</th>\n",
       "      <th>source</th>\n",
       "      <th>sentence_1</th>\n",
       "      <th>sentence_2</th>\n",
       "      <th>label</th>\n",
       "      <th>binary-label</th>\n",
       "      <th>sent_1_len</th>\n",
       "      <th>sent_2_len</th>\n",
       "    </tr>\n",
       "  </thead>\n",
       "  <tbody>\n",
       "    <tr>\n",
       "      <th>1613</th>\n",
       "      <td>boostcamp-sts-v1-train-1613</td>\n",
       "      <td>slack-rtt</td>\n",
       "      <td>destiny..?</td>\n",
       "      <td>운명..?</td>\n",
       "      <td>4.6</td>\n",
       "      <td>1.0</td>\n",
       "      <td>10</td>\n",
       "      <td>5</td>\n",
       "    </tr>\n",
       "    <tr>\n",
       "      <th>7012</th>\n",
       "      <td>boostcamp-sts-v1-train-7012</td>\n",
       "      <td>nsmc-rtt</td>\n",
       "      <td>나 또한 원주율을 위해..</td>\n",
       "      <td>나도...</td>\n",
       "      <td>0.2</td>\n",
       "      <td>0.0</td>\n",
       "      <td>14</td>\n",
       "      <td>5</td>\n",
       "    </tr>\n",
       "    <tr>\n",
       "      <th>9119</th>\n",
       "      <td>boostcamp-sts-v1-train-9119</td>\n",
       "      <td>slack-rtt</td>\n",
       "      <td>엇 느낌있네요 ㅋㅋ</td>\n",
       "      <td>어떤 느낌</td>\n",
       "      <td>1.0</td>\n",
       "      <td>0.0</td>\n",
       "      <td>10</td>\n",
       "      <td>5</td>\n",
       "    </tr>\n",
       "    <tr>\n",
       "      <th>9143</th>\n",
       "      <td>boostcamp-sts-v1-train-9143</td>\n",
       "      <td>slack-rtt</td>\n",
       "      <td>네 저거 맞습니다.</td>\n",
       "      <td>네 맞아요</td>\n",
       "      <td>3.4</td>\n",
       "      <td>1.0</td>\n",
       "      <td>10</td>\n",
       "      <td>5</td>\n",
       "    </tr>\n",
       "  </tbody>\n",
       "</table>\n",
       "</div>"
      ],
      "text/plain": [
       "                               id     source      sentence_1 sentence_2  \\\n",
       "1613  boostcamp-sts-v1-train-1613  slack-rtt      destiny..?      운명..?   \n",
       "7012  boostcamp-sts-v1-train-7012   nsmc-rtt  나 또한 원주율을 위해..      나도...   \n",
       "9119  boostcamp-sts-v1-train-9119  slack-rtt      엇 느낌있네요 ㅋㅋ      어떤 느낌   \n",
       "9143  boostcamp-sts-v1-train-9143  slack-rtt      네 저거 맞습니다.      네 맞아요   \n",
       "\n",
       "      label  binary-label  sent_1_len  sent_2_len  \n",
       "1613    4.6           1.0          10           5  \n",
       "7012    0.2           0.0          14           5  \n",
       "9119    1.0           0.0          10           5  \n",
       "9143    3.4           1.0          10           5  "
      ]
     },
     "execution_count": 33,
     "metadata": {},
     "output_type": "execute_result"
    }
   ],
   "source": [
    "train[train['sent_2_len']==5]"
   ]
  },
  {
   "cell_type": "code",
   "execution_count": 34,
   "metadata": {},
   "outputs": [
    {
     "data": {
      "text/html": [
       "<div>\n",
       "<style scoped>\n",
       "    .dataframe tbody tr th:only-of-type {\n",
       "        vertical-align: middle;\n",
       "    }\n",
       "\n",
       "    .dataframe tbody tr th {\n",
       "        vertical-align: top;\n",
       "    }\n",
       "\n",
       "    .dataframe thead th {\n",
       "        text-align: right;\n",
       "    }\n",
       "</style>\n",
       "<table border=\"1\" class=\"dataframe\">\n",
       "  <thead>\n",
       "    <tr style=\"text-align: right;\">\n",
       "      <th></th>\n",
       "      <th>id</th>\n",
       "      <th>source</th>\n",
       "      <th>sentence_1</th>\n",
       "      <th>sentence_2</th>\n",
       "      <th>label</th>\n",
       "      <th>binary-label</th>\n",
       "      <th>sent_1_len</th>\n",
       "      <th>sent_2_len</th>\n",
       "    </tr>\n",
       "  </thead>\n",
       "  <tbody>\n",
       "    <tr>\n",
       "      <th>2412</th>\n",
       "      <td>boostcamp-sts-v1-train-2412</td>\n",
       "      <td>nsmc-rtt</td>\n",
       "      <td>‥ 김민희를알수록 의심되는 정체. 완벽한연기. 완벽한몰입과스릴. 작은반전. 무엇보다...</td>\n",
       "      <td>‥ 김민희를 알면 알수록 의심스러워진다. 완벽한 연기. 완벽한 몰입과 스릴. 작은 ...</td>\n",
       "      <td>4.0</td>\n",
       "      <td>1.0</td>\n",
       "      <td>94</td>\n",
       "      <td>114</td>\n",
       "    </tr>\n",
       "  </tbody>\n",
       "</table>\n",
       "</div>"
      ],
      "text/plain": [
       "                               id    source  \\\n",
       "2412  boostcamp-sts-v1-train-2412  nsmc-rtt   \n",
       "\n",
       "                                             sentence_1  \\\n",
       "2412  ‥ 김민희를알수록 의심되는 정체. 완벽한연기. 완벽한몰입과스릴. 작은반전. 무엇보다...   \n",
       "\n",
       "                                             sentence_2  label  binary-label  \\\n",
       "2412  ‥ 김민희를 알면 알수록 의심스러워진다. 완벽한 연기. 완벽한 몰입과 스릴. 작은 ...    4.0           1.0   \n",
       "\n",
       "      sent_1_len  sent_2_len  \n",
       "2412          94         114  "
      ]
     },
     "execution_count": 34,
     "metadata": {},
     "output_type": "execute_result"
    }
   ],
   "source": [
    "train[train['sent_2_len']==114]"
   ]
  },
  {
   "cell_type": "code",
   "execution_count": 47,
   "metadata": {},
   "outputs": [
    {
     "ename": "TypeError",
     "evalue": "'module' object is not callable",
     "output_type": "error",
     "traceback": [
      "\u001b[0;31m---------------------------------------------------------------------------\u001b[0m",
      "\u001b[0;31mTypeError\u001b[0m                                 Traceback (most recent call last)",
      "\u001b[1;32m/opt/ml/data/EDA/datacheck.ipynb 셀 8\u001b[0m in \u001b[0;36m<cell line: 1>\u001b[0;34m()\u001b[0m\n\u001b[0;32m----> <a href='vscode-notebook-cell://ssh-remote%2Baistage/opt/ml/data/EDA/datacheck.ipynb#X14sdnNjb2RlLXJlbW90ZQ%3D%3D?line=0'>1</a>\u001b[0m fig \u001b[39m=\u001b[39m plt\u001b[39m.\u001b[39;49mfigure(figsize\u001b[39m=\u001b[39;49m(\u001b[39m9\u001b[39;49m,\u001b[39m9\u001b[39;49m))\n\u001b[1;32m      <a href='vscode-notebook-cell://ssh-remote%2Baistage/opt/ml/data/EDA/datacheck.ipynb#X14sdnNjb2RlLXJlbW90ZQ%3D%3D?line=1'>2</a>\u001b[0m plt\u001b[39m.\u001b[39mshow()\n",
      "\u001b[0;31mTypeError\u001b[0m: 'module' object is not callable"
     ]
    }
   ],
   "source": [
    "fig = plt.figure(figsize=(9,9))\n",
    "plt.show()"
   ]
  },
  {
   "cell_type": "code",
   "execution_count": 43,
   "metadata": {},
   "outputs": [
    {
     "data": {
      "text/plain": [
       "<AxesSubplot:>"
      ]
     },
     "execution_count": 43,
     "metadata": {},
     "output_type": "execute_result"
    },
    {
     "data": {
      "image/png": "[encoded data removed]",
      "text/plain": [
       "<Figure size 432x288 with 1 Axes>"
      ]
     },
     "metadata": {
      "needs_background": "light"
     },
     "output_type": "display_data"
    }
   ],
   "source": [
    "pd.DataFrame(sorted(train['sent_2_len'])).plot()"
   ]
  },
  {
   "cell_type": "code",
   "execution_count": 20,
   "metadata": {},
   "outputs": [
    {
     "name": "stdout",
     "output_type": "stream",
     "text": [
      "<<train>>\n",
      "ㅎㅎ -> 318 / 9324\n",
      "ㅋㅋ -> 473 / 9324\n",
      "ㅠㅠ, ㅜㅜ -> 130 / 9324\n",
      "^^ -> 64 / 9324\n",
      ";; -> 40 / 9324\n",
      "<<val>>\n",
      "ㅎㅎ -> 12 / 550\n",
      "ㅋㅋ -> 32 / 550\n",
      "ㅠㅠ, ㅜㅜ -> 5 / 550\n",
      "^^ -> 4 / 550\n",
      ";; -> 0 / 9324\n",
      "<<test>>\n",
      "ㅎㅎ -> 34 / 1100\n",
      "ㅋㅋ -> 48 / 1100\n",
      "ㅠㅠ, ㅜㅜ -> 15 / 1100\n",
      "^^ -> 7 / 1100\n",
      ";; -> 3 / 9324\n"
     ]
    }
   ],
   "source": [
    "# ㅎㅎ, ㅋㅋ, ㅠㅠ, ^^ -> 일반화 필요할 듯\n",
    "\n",
    "num1, num2, num3, num4, num5 = 0,0,0,0,0\n",
    "\n",
    "for line in train['sentence_1']:\n",
    "    if 'ㅎㅎ' in line:\n",
    "        num1 += 1\n",
    "    if 'ㅋㅋ' in line:\n",
    "        num2 += 1\n",
    "    if 'ㅠㅠ' in line or 'ㅜㅜ' in line:\n",
    "        num3 += 1\n",
    "    if '^^' in line:\n",
    "        num4 += 1\n",
    "    if ';;' in line:\n",
    "        num5 += 1\n",
    "print('<<train>>')\n",
    "print('ㅎㅎ ->', num1,'/',len(train))\n",
    "print('ㅋㅋ ->', num2,'/',len(train))\n",
    "print('ㅠㅠ, ㅜㅜ ->', num3,'/',len(train))\n",
    "print('^^ ->', num4,'/',len(train))\n",
    "print(';; ->', num5,'/',len(train))\n",
    "\n",
    "num1, num2, num3, num4, num5 = 0,0,0,0,0\n",
    "\n",
    "for line in val['sentence_1']:\n",
    "    if 'ㅎㅎ' in line:\n",
    "        num1 += 1\n",
    "    if 'ㅋㅋ' in line:\n",
    "        num2 += 1\n",
    "    if 'ㅠㅠ' in line or 'ㅜㅜ' in line:\n",
    "        num3 += 1\n",
    "    if '^^' in line:\n",
    "        num4 += 1\n",
    "    if ';;' in line:\n",
    "        num5 += 1\n",
    "print('<<val>>')\n",
    "print('ㅎㅎ ->', num1,'/',len(val))\n",
    "print('ㅋㅋ ->', num2,'/',len(val))\n",
    "print('ㅠㅠ, ㅜㅜ ->', num3,'/',len(val))\n",
    "print('^^ ->', num4,'/',len(val))\n",
    "print(';; ->', num5,'/',len(train))\n",
    "\n",
    "num1, num2, num3, num4, num5 = 0,0,0,0,0\n",
    "\n",
    "for line in test['sentence_1']:\n",
    "    if 'ㅎㅎ' in line:\n",
    "        num1 += 1\n",
    "    if 'ㅋㅋ' in line:\n",
    "        num2 += 1\n",
    "    if 'ㅠㅠ' in line or 'ㅜㅜ' in line:\n",
    "        num3 += 1\n",
    "    if '^^' in line:\n",
    "        num4 += 1\n",
    "    if ';;' in line:\n",
    "        num5 += 1\n",
    "print('<<test>>')\n",
    "print('ㅎㅎ ->', num1,'/',len(test))\n",
    "print('ㅋㅋ ->', num2,'/',len(test))\n",
    "print('ㅠㅠ, ㅜㅜ ->', num3,'/',len(test))\n",
    "print('^^ ->', num4,'/',len(test))\n",
    "print(';; ->', num5,'/',len(train))"
   ]
  },
  {
   "cell_type": "code",
   "execution_count": 18,
   "metadata": {},
   "outputs": [
    {
     "data": {
      "text/html": [
       "<div>\n",
       "<style scoped>\n",
       "    .dataframe tbody tr th:only-of-type {\n",
       "        vertical-align: middle;\n",
       "    }\n",
       "\n",
       "    .dataframe tbody tr th {\n",
       "        vertical-align: top;\n",
       "    }\n",
       "\n",
       "    .dataframe thead th {\n",
       "        text-align: right;\n",
       "    }\n",
       "</style>\n",
       "<table border=\"1\" class=\"dataframe\">\n",
       "  <thead>\n",
       "    <tr style=\"text-align: right;\">\n",
       "      <th></th>\n",
       "      <th>id</th>\n",
       "      <th>source</th>\n",
       "      <th>sentence_1</th>\n",
       "      <th>sentence_2</th>\n",
       "      <th>label</th>\n",
       "      <th>binary-label</th>\n",
       "      <th>sent_1_len</th>\n",
       "      <th>sent_2_len</th>\n",
       "    </tr>\n",
       "  </thead>\n",
       "  <tbody>\n",
       "    <tr>\n",
       "      <th>0</th>\n",
       "      <td>boostcamp-sts-v1-train-000</td>\n",
       "      <td>nsmc-sampled</td>\n",
       "      <td>스릴도있고 반전도 있고 여느 한국영화 쓰레기들하고는 차원이 다르네요~</td>\n",
       "      <td>반전도 있고,사랑도 있고재미도있네요.</td>\n",
       "      <td>2.2</td>\n",
       "      <td>0.0</td>\n",
       "      <td>38</td>\n",
       "      <td>20</td>\n",
       "    </tr>\n",
       "    <tr>\n",
       "      <th>1</th>\n",
       "      <td>boostcamp-sts-v1-train-001</td>\n",
       "      <td>slack-rtt</td>\n",
       "      <td>앗 제가 접근권한이 없다고 뜹니다;;</td>\n",
       "      <td>오, 액세스 권한이 없다고 합니다.</td>\n",
       "      <td>4.2</td>\n",
       "      <td>1.0</td>\n",
       "      <td>20</td>\n",
       "      <td>19</td>\n",
       "    </tr>\n",
       "    <tr>\n",
       "      <th>2</th>\n",
       "      <td>boostcamp-sts-v1-train-002</td>\n",
       "      <td>petition-sampled</td>\n",
       "      <td>주택청약조건 변경해주세요.</td>\n",
       "      <td>주택청약 무주택기준 변경해주세요.</td>\n",
       "      <td>2.4</td>\n",
       "      <td>0.0</td>\n",
       "      <td>14</td>\n",
       "      <td>18</td>\n",
       "    </tr>\n",
       "    <tr>\n",
       "      <th>3</th>\n",
       "      <td>boostcamp-sts-v1-train-003</td>\n",
       "      <td>slack-sampled</td>\n",
       "      <td>입사후 처음 대면으로 만나 반가웠습니다.</td>\n",
       "      <td>화상으로만 보다가 리얼로 만나니 정말 반가웠습니다.</td>\n",
       "      <td>3.0</td>\n",
       "      <td>1.0</td>\n",
       "      <td>22</td>\n",
       "      <td>28</td>\n",
       "    </tr>\n",
       "    <tr>\n",
       "      <th>4</th>\n",
       "      <td>boostcamp-sts-v1-train-004</td>\n",
       "      <td>slack-sampled</td>\n",
       "      <td>뿌듯뿌듯 하네요!!</td>\n",
       "      <td>꼬옥 실제로 한번 뵈어요 뿌뿌뿌~!~!</td>\n",
       "      <td>0.0</td>\n",
       "      <td>0.0</td>\n",
       "      <td>10</td>\n",
       "      <td>21</td>\n",
       "    </tr>\n",
       "  </tbody>\n",
       "</table>\n",
       "</div>"
      ],
      "text/plain": [
       "                           id            source  \\\n",
       "0  boostcamp-sts-v1-train-000      nsmc-sampled   \n",
       "1  boostcamp-sts-v1-train-001         slack-rtt   \n",
       "2  boostcamp-sts-v1-train-002  petition-sampled   \n",
       "3  boostcamp-sts-v1-train-003     slack-sampled   \n",
       "4  boostcamp-sts-v1-train-004     slack-sampled   \n",
       "\n",
       "                               sentence_1                    sentence_2  \\\n",
       "0  스릴도있고 반전도 있고 여느 한국영화 쓰레기들하고는 차원이 다르네요~          반전도 있고,사랑도 있고재미도있네요.   \n",
       "1                    앗 제가 접근권한이 없다고 뜹니다;;           오, 액세스 권한이 없다고 합니다.   \n",
       "2                          주택청약조건 변경해주세요.            주택청약 무주택기준 변경해주세요.   \n",
       "3                  입사후 처음 대면으로 만나 반가웠습니다.  화상으로만 보다가 리얼로 만나니 정말 반가웠습니다.   \n",
       "4                              뿌듯뿌듯 하네요!!         꼬옥 실제로 한번 뵈어요 뿌뿌뿌~!~!   \n",
       "\n",
       "   label  binary-label  sent_1_len  sent_2_len  \n",
       "0    2.2           0.0          38          20  \n",
       "1    4.2           1.0          20          19  \n",
       "2    2.4           0.0          14          18  \n",
       "3    3.0           1.0          22          28  \n",
       "4    0.0           0.0          10          21  "
      ]
     },
     "execution_count": 18,
     "metadata": {},
     "output_type": "execute_result"
    }
   ],
   "source": [
    "train.head()"
   ]
  },
  {
   "cell_type": "code",
   "execution_count": 48,
   "metadata": {},
   "outputs": [],
   "source": [
    "def check(x):\n",
    "    if 'ㅎㅎ' in x or 'ㅋㅋ' in x or 'ㅜㅜ' in x or 'ㅠㅠ' in x or ';;' in x:\n",
    "        return True\n",
    "    return False\n"
   ]
  },
  {
   "cell_type": "code",
   "execution_count": 58,
   "metadata": {},
   "outputs": [
    {
     "name": "stdout",
     "output_type": "stream",
     "text": [
      "1.6085197018104367\n",
      "0.34717784877529284\n",
      "1.8770065593321408\n",
      "0.3942754919499106\n"
     ]
    }
   ],
   "source": [
    "print(np.average(train[train['sentence_1'].apply(check)]['label']))\n",
    "print(np.average(train[train['sentence_1'].apply(check)]['binary-label']))\n",
    "print()\n",
    "print(np.average(train[~train['sentence_1'].apply(check)]['label']))\n",
    "print(np.average(train[~train['sentence_1'].apply(check)]['binary-label']))"
   ]
  },
  {
   "cell_type": "code",
   "execution_count": 61,
   "metadata": {},
   "outputs": [
    {
     "name": "stdout",
     "output_type": "stream",
     "text": [
      "1.2765986394557822\n",
      "0.254421768707483\n",
      "\n",
      "1.8990336476889045\n",
      "0.4010944230993131\n"
     ]
    }
   ],
   "source": [
    "print(np.average(train[train['sentence_2'].apply(check)]['label']))\n",
    "print(np.average(train[train['sentence_2'].apply(check)]['binary-label']))\n",
    "print()\n",
    "print(np.average(train[~train['sentence_2'].apply(check)]['label']))\n",
    "print(np.average(train[~train['sentence_2'].apply(check)]['binary-label']))"
   ]
  },
  {
   "cell_type": "code",
   "execution_count": 2,
   "metadata": {},
   "outputs": [],
   "source": [
    "data = pd.read_csv('../train.csv')"
   ]
  },
  {
   "cell_type": "code",
   "execution_count": 10,
   "metadata": {},
   "outputs": [
    {
     "data": {
      "text/plain": [
       "['스릴도있고 반전도 있고 여느 한국영화 쓰레기들하고는 차원이 다르네요~[SEP]반전도 있고,사랑도 있고재미도있네요.',\n",
       " '앗 제가 접근권한이 없다고 뜹니다;;[SEP]오, 액세스 권한이 없다고 합니다.',\n",
       " '주택청약조건 변경해주세요.[SEP]주택청약 무주택기준 변경해주세요.',\n",
       " '입사후 처음 대면으로 만나 반가웠습니다.[SEP]화상으로만 보다가 리얼로 만나니 정말 반가웠습니다.',\n",
       " '뿌듯뿌듯 하네요!![SEP]꼬옥 실제로 한번 뵈어요 뿌뿌뿌~!~!',\n",
       " '오마이가뜨지져스크롸이스트휏[SEP]오 마이 갓 지저스 스크론 이스트 팬',\n",
       " '전 암만 찍어도 까만 하늘.. ㅠㅠ[SEP]암만 찍어도 하늘은 까맣다.. ㅠㅠ',\n",
       " '이렇게 귀여운 쥐들은 처음이네요.ㅎㅎㅎ[SEP]이렇게 지겨운 공포영화는 처음..',\n",
       " '미세먼지 해결이 가장 시급한 문제입니다![SEP]가장 시급한 것이 신생아실 관리입니다!!!',\n",
       " '크림하우스 환불조치해주세요.[SEP]크림하우스 환불조치할 수 있도록해주세여',\n",
       " '그 책부터 언능 꺼내봐야 겠어요![SEP]책에서 꺼내야겠어요!',\n",
       " '극의전개가너무느릿하여답답합니다[SEP]전개가 너무 느려서 속터진다',\n",
       " '오랫만에 존쿠삭의 연기보니 좋네요 Good~~!![SEP]오랜만에 존 쿠삭의 연기를 보니 반갑다. 좋아요~~!!',\n",
       " '글쎄.. 특색도 없고 별로였던 걸로 기억하는데..[SEP]큰 반전 없던걸로 기억하는데...',\n",
       " '아래는 게임 내에서 함께 팀을 맺고 캡쳐한 이미지입니다.[SEP]여러분들간의 다양한 아이디어를 제안하고 나누는 채널입니다.',\n",
       " 'LG전자 스마트폰 생산 중단 청원[SEP]LG전자서비스의 노조 와해를 조사해주세요.']"
      ]
     },
     "execution_count": 10,
     "metadata": {},
     "output_type": "execute_result"
    }
   ],
   "source": [
    "list((data['sentence_1'] + '[SEP]' + data['sentence_2']).values)[:16]"
   ]
  },
  {
   "cell_type": "code",
   "execution_count": null,
   "metadata": {},
   "outputs": [],
   "source": []
  }
 ],
 "metadata": {
  "kernelspec": {
   "display_name": "Python 3.8.13 ('venv')",
   "language": "python",
   "name": "python3"
  },
  "language_info": {
   "codemirror_mode": {
    "name": "ipython",
    "version": 3
   },
   "file_extension": ".py",
   "mimetype": "text/x-python",
   "name": "python",
   "nbconvert_exporter": "python",
   "pygments_lexer": "ipython3",
   "version": "3.8.13"
  },
  "orig_nbformat": 4,
  "vscode": {
   "interpreter": {
    "hash": "ec5511c57591959bfe383097d4c77eeb724c9a6ac951d9eef9284c9544b2033b"
   }
  }
 },
 "nbformat": 4,
 "nbformat_minor": 2
}
